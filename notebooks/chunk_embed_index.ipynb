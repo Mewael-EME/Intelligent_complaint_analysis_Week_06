{
 "cells": [
  {
   "cell_type": "code",
   "execution_count": 1,
   "id": "77b2d7d5-3a7d-4e4e-b3df-58d6d7369d12",
   "metadata": {},
   "outputs": [],
   "source": [
    "import pandas as pd\n",
    "import os\n",
    "import sys"
   ]
  },
  {
   "cell_type": "code",
   "execution_count": 2,
   "id": "b7a1a7f0-f2a1-4dd9-ab46-bf8cec6cf499",
   "metadata": {},
   "outputs": [],
   "source": [
    "project_root = os.path.abspath(os.path.join(os.getcwd(), \"..\"))\n",
    "os.chdir(project_root)\n",
    "\n",
    "if project_root not in sys.path:\n",
    "    sys.path.insert(0, project_root)"
   ]
  },
  {
   "cell_type": "code",
   "execution_count": 3,
   "id": "122a5a4f-6843-4203-90b7-c9d4ebee0539",
   "metadata": {},
   "outputs": [],
   "source": [
    "from src.chunking import chunk_texts\n",
    "from src.embedder import load_embedding_model, get_embeddings\n",
    "from src.vector_store import create_faiss_index, save_faiss_index, save_metadata"
   ]
  },
  {
   "cell_type": "code",
   "execution_count": 4,
   "id": "995bcc13-78f3-44d5-8d9d-c7b2ed2c4836",
   "metadata": {},
   "outputs": [],
   "source": [
    "#Step 1: Load cleaned data\n",
    "filtered_path = os.path.join(project_root, \"data\", \"filtered_complaints.csv\")\n",
    "df = pd.read_csv(filtered_path)"
   ]
  },
  {
   "cell_type": "code",
   "execution_count": 5,
   "id": "61e0098e-b987-4842-b5c0-33162a66db77",
   "metadata": {},
   "outputs": [],
   "source": [
    "#Step 2: Create chunk-level documents + metadata\n",
    "documents = []\n",
    "metadata = []\n",
    "for _, row in df.iterrows():\n",
    "    chunks = chunk_texts([row[\"cleaned_narrative\"]])\n",
    "    for chunk in chunks:\n",
    "        documents.append(chunk)\n",
    "        metadata.append({\n",
    "            \"complaint_id\": row[\"Complaint ID\"] if \"Complaint ID\" in row else None,\n",
    "            \"product\": row[\"Product\"],\n",
    "            \"chunk\": chunk\n",
    "        })"
   ]
  },
  {
   "cell_type": "code",
   "execution_count": 7,
   "id": "8ff79f20-f62f-4a14-8d32-cb60c7011a52",
   "metadata": {},
   "outputs": [
    {
     "data": {
      "application/vnd.jupyter.widget-view+json": {
       "model_id": "2ca7f450ce9b46c780f8ded09556694e",
       "version_major": 2,
       "version_minor": 0
      },
      "text/plain": [
       "Batches:   0%|          | 0/799 [00:00<?, ?it/s]"
      ]
     },
     "metadata": {},
     "output_type": "display_data"
    },
    {
     "name": "stdout",
     "output_type": "stream",
     "text": [
      "✅ Indexed 25564 chunks.\n"
     ]
    }
   ],
   "source": [
    "#Step 3: Embed\n",
    "model = load_embedding_model()\n",
    "embeddings = get_embeddings(model, documents)\n",
    "\n",
    "#Step 4: Index & Save\n",
    "index = create_faiss_index(embeddings)\n",
    "save_faiss_index(index)\n",
    "save_metadata(metadata)\n",
    "\n",
    "print(f\"✅ Indexed {len(documents)} chunks.\")"
   ]
  },
  {
   "cell_type": "code",
   "execution_count": null,
   "id": "0d8aff96-9f56-498f-b3cc-e59816370ac6",
   "metadata": {},
   "outputs": [],
   "source": []
  }
 ],
 "metadata": {
  "kernelspec": {
   "display_name": "Python 3 (ipykernel)",
   "language": "python",
   "name": "python3"
  },
  "language_info": {
   "codemirror_mode": {
    "name": "ipython",
    "version": 3
   },
   "file_extension": ".py",
   "mimetype": "text/x-python",
   "name": "python",
   "nbconvert_exporter": "python",
   "pygments_lexer": "ipython3",
   "version": "3.11.7"
  }
 },
 "nbformat": 4,
 "nbformat_minor": 5
}
